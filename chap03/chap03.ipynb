{
 "cells": [
  {
   "attachments": {},
   "cell_type": "markdown",
   "metadata": {},
   "source": [
    "### 3.1 직선, 사각형 그리기"
   ]
  },
  {
   "cell_type": "code",
   "execution_count": 36,
   "metadata": {},
   "outputs": [],
   "source": [
    "import cv2\n",
    "import numpy as np\n",
    "\n",
    "# 배경 생성, white\n",
    "# img = np.zeros(shape= (512, 512, 3), dtype= np.uint8) + 255\n",
    "\n",
    "# 배경생성, black\n",
    "img = np.zeros(shape= (500, 500, 3), dtype=np.uint8)\n",
    "\n",
    "pt1 = 100, 100\n",
    "pt2 = 400, 400\n",
    "\n",
    "# 초록색 사각형\n",
    "# thickness=-1 / 선 두께. 기본값은 1. 음수(-1)를 지정하면 내부를 채움\n",
    "cv2.rectangle(img, pt1, pt2, (0, 255, 0), thickness=5) # 맨뒤는 선의 두께, 옵션이므로 있어도 되고 없어도 된다.\n",
    "\n",
    "# 파란색 선\n",
    "cv2.line(img, (0, 0), (500, 0), (255, 0, 0), 5)\n",
    "\n",
    "# 빨간색 선\n",
    "cv2.line(img, (0, 0), (0, 500), (0, 0, 255), 5)\n",
    "\n",
    "# 노란색 선\n",
    "cv2.line(img, pt1, pt2, (0, 255, 255), 2)\n",
    "\n",
    "# 보라색 선\n",
    "cv2.line(img, (0, 500), (500, 0), (255, 0, 255), 5)\n",
    "\n",
    "cv2.imshow('test', img)\n",
    "cv2.waitKey()\n",
    "cv2.destroyAllWindows()"
   ]
  },
  {
   "attachments": {},
   "cell_type": "markdown",
   "metadata": {},
   "source": [
    "### 3.2 교차점 "
   ]
  },
  {
   "cell_type": "code",
   "execution_count": 38,
   "metadata": {},
   "outputs": [],
   "source": [
    "import cv2\n",
    "import numpy as np\n",
    "from matplotlib import pyplot as plt\n",
    "\n",
    "img = np.zeros(shape=(500, 500, 3), dtype=np.uint8) + 255\n",
    "\n",
    "x1, x2 = 100, 400\n",
    "y1, y2 = 100, 400\n",
    "\n",
    "cv2.rectangle(img, (x1, y1), (x2, y2), (0, 0, 255))\n",
    "\n",
    "pt1 = 120, 50\n",
    "pt2 = 300, 450\n",
    "cv2.line(img, pt1, pt2, (255, 0, 0))\n",
    "\n",
    "imgRect = (x1, y1, x2-x1, y2-y1)\n",
    "\n",
    "# 사각형의 교차 좌표 연산\n",
    "ret, rpt1, rpt2 = cv2.clipLine(imgRect, pt1, pt2)\n",
    "\n",
    "# 직선이 사각형과 만나면 ret은 True이고 만나지 않으면 False 이다.\n",
    "if ret:\n",
    "    # thickness=-1, 선 두께. 기본값은 1. 음수(-1)를 지정하면 내부를 채움\n",
    "    cv2.circle(img, rpt1, radius=5, color=(0, 255, 0), thickness=-1)\n",
    "    cv2.circle(img, rpt2, radius=5, color=(0, 255, 0), thickness=-1)\n",
    "    \n",
    "cv2.imshow('test', img)\n",
    "cv2.waitKey()\n",
    "cv2.destroyAllWindows()"
   ]
  },
  {
   "attachments": {},
   "cell_type": "markdown",
   "metadata": {},
   "source": [
    "### 3.3 원 그리기"
   ]
  },
  {
   "cell_type": "code",
   "execution_count": 44,
   "metadata": {},
   "outputs": [
    {
     "name": "stdout",
     "output_type": "stream",
     "text": [
      "250 250\n"
     ]
    }
   ],
   "source": [
    "import cv2\n",
    "import numpy as np\n",
    "\n",
    "img = np.zeros(shape = (500, 500, 3), dtype = np.uint8)\n",
    "cx = img.shape[0] // 2 # 중점의 x 좌표\n",
    "cy = img.shape[1] // 2 # 중점의 y 좌표\n",
    "\n",
    "for r in range(200, 0, -100):\n",
    "    cv2.circle(img, (cx, cy), r, color = (255, 0, 0), thickness=5)\n",
    "cv2.circle(img, (cx, cy), radius=50, color = (0, 0, 255), thickness=-1)\n",
    "\n",
    "print(cx, cy)\n",
    "\n",
    "cv2.imshow('img', img)\n",
    "cv2.waitKey()\n",
    "cv2.destroyAllWindows()"
   ]
  },
  {
   "cell_type": "markdown",
   "metadata": {},
   "source": [
    "### 3.4 타원그리기"
   ]
  },
  {
   "cell_type": "code",
   "execution_count": 76,
   "metadata": {},
   "outputs": [],
   "source": [
    "import cv2\n",
    "import numpy as np\n",
    "\n",
    "img = np.zeros(shape=(500, 500, 3), dtype = np.uint8)\n",
    "ptCenter = img.shape[1] // 2, img.shape[0] // 2\n",
    "size = 200, 100\n",
    "\n",
    "# 큰 원\n",
    "cv2.ellipse(img, center=ptCenter, axes=size, angle=135, # 출력창, 중심좌표, 크기, 회전각도,\n",
    "            startAngle=0, endAngle=270, color=(255, 0, 0), thickness=1) # 보이는 시작 각도, 보이는 끝 각도, 색상, 두께\n",
    "cv2.ellipse(img, ptCenter, size, 45, 0, 360, (0, 0, 255)) # 출력창, 중심좌표, 크기, 회전각도, 보이는 각도, 색상\n",
    "\n",
    "# 작은 원\n",
    "box = (ptCenter, size, 0) # 중심좌표, 크기, 회전 각도\n",
    "cv2.ellipse(img ,box, (255, 0, 0), 5)\n",
    "\n",
    "# 작은 원\n",
    "box = (ptCenter, size, 45) # 중심좌표, 크기, 회전 각도\n",
    "cv2.ellipse(img ,box, (0, 0, 255), 5)\n",
    "\n",
    "cv2.imshow('test', img)\n",
    "cv2.waitKey()\n",
    "cv2.destroyAllWindows()"
   ]
  }
 ],
 "metadata": {
  "kernelspec": {
   "display_name": "Python 3",
   "language": "python",
   "name": "python3"
  },
  "language_info": {
   "codemirror_mode": {
    "name": "ipython",
    "version": 3
   },
   "file_extension": ".py",
   "mimetype": "text/x-python",
   "name": "python",
   "nbconvert_exporter": "python",
   "pygments_lexer": "ipython3",
   "version": "3.10.6"
  },
  "orig_nbformat": 4
 },
 "nbformat": 4,
 "nbformat_minor": 2
}
